{
 "metadata": {
  "name": "",
  "signature": "sha256:45747e2aa93c6b72cb4dde34deab45b69d07e4c14e18f2768e7a056c83d25fb5"
 },
 "nbformat": 3,
 "nbformat_minor": 0,
 "worksheets": [
  {
   "cells": [
    {
     "cell_type": "code",
     "collapsed": false,
     "input": [
      "!ls *.tex"
     ],
     "language": "python",
     "metadata": {},
     "outputs": [
      {
       "output_type": "stream",
       "stream": "stdout",
       "text": [
        "\u001b[31m1.tex\u001b[m\u001b[m                                         HashingDocComparison.tex\r\n",
        "2.tex                                         KargerMinCut.tex\r\n",
        "\u001b[31m2a.tex\u001b[m\u001b[m                                        MathPrelim.tex\r\n",
        "\u001b[31m2b.tex\u001b[m\u001b[m                                        MedianAlg.tex\r\n",
        "3a.tex                                        MultipleEventsConditioning.tex\r\n",
        "\u001b[31m3b.tex\u001b[m\u001b[m                                        MultipleEventsConditioningandIndependence.tex\r\n",
        "\u001b[31m5-old.tex\u001b[m\u001b[m                                     MultipleHypothesisTesting.tex\r\n",
        "\u001b[31m5.tex\u001b[m\u001b[m                                         ProbabilitySpaces.tex\r\n",
        "5a.tex                                        \u001b[31mRVsExpectation.InfiniteSets.tex\u001b[m\u001b[m\r\n",
        "\u001b[31m5b.tex\u001b[m\u001b[m                                        RandomAlgorithms.tex\r\n",
        "\u001b[31m6.tex\u001b[m\u001b[m                                         RandomVariablesExpectationVariance.tex\r\n",
        "\u001b[31m7.tex\u001b[m\u001b[m                                         SamplingHypothesisTestingCLT.tex\r\n",
        "BinsAndBalls.tex                              StatNCorrelation.tex\r\n",
        "BloomFilter.tex                               book.tex\r\n",
        "CDFsAndSorting.tex                            \u001b[31mintro.tex\u001b[m\u001b[m\r\n",
        "Combinatorics.tex                             macros.tex\r\n",
        "DocComparison.tex                             pseudo_randomness.tex\r\n",
        "HashingAndSorting.tex                         quiz0.tex\r\n"
       ]
      }
     ],
     "prompt_number": 1
    },
    {
     "cell_type": "code",
     "collapsed": false,
     "input": [
      "from glob import glob\n",
      "import os\n",
      "for name in glob('*.tex'):\n",
      "    print name\n",
      "    infile=open(name,'r')\n",
      "    outfile=open(name+\".nops\",\"w\")\n",
      "    for line in infile:\n",
      "        if 'pstex' in line:\n",
      "            print line\n",
      "            outfile.write('%%'+line)\n",
      "        else:\n",
      "            outfile.write(line)\n",
      "    infile.close()\n",
      "    outfile.close()\n",
      "    os.rename(name+'.nops',name)"
     ],
     "language": "python",
     "metadata": {},
     "outputs": [
      {
       "output_type": "stream",
       "stream": "stdout",
       "text": [
        "1.tex\n",
        "\\resizebox{1.5in}{!}{\\input{1.1.pstex_t}}\n",
        "\n",
        "2.tex\n",
        "\\resizebox{1.5in}{!}{\\input{spicy.pstex_t}}\n",
        "\n",
        "\\resizebox{1.5in}{!}{\\input{indep1.pstex_t}}\n",
        "\n",
        "\\resizebox{1.5in}{!}{\\input{indep2.pstex_t}}\n",
        "\n",
        "\\resizebox{1.5in}{!}{\\input{indep3.pstex_t}}\n",
        "\n",
        "2a.tex\n",
        "\\resizebox{1.5in}{!}{\\input{spicy.pstex_t}}\n",
        "\n",
        "\\resizebox{1.5in}{!}{\\input{indep1.pstex_t}}\n",
        "\n",
        "\\resizebox{1.5in}{!}{\\input{indep2.pstex_t}}\n",
        "\n",
        "\\resizebox{1.5in}{!}{\\input{indep3.pstex_t}}\n",
        "\n",
        "2b.tex\n",
        "\\resizebox{1.5in}{!}{\\input{indep1.pstex_t}}\n",
        "\n",
        "\\resizebox{1.5in}{!}{\\input{indep2.pstex_t}}\n",
        "\n",
        "\\resizebox{1.5in}{!}{\\input{indep3.pstex_t}}\n",
        "\n",
        "3a.tex\n",
        "\\resizebox{2in}{!}{\\input{var.pstex_t}}\n",
        "\n",
        "3b.tex\n",
        "\\resizebox{2in}{!}{\\input{var.pstex_t}}\n",
        "\n",
        "5-old.tex\n",
        "5.tex\n",
        "5a.tex\n",
        "5b.tex\n",
        "6.tex\n",
        "7.tex\n",
        "BinsAndBalls.tex\n",
        "BloomFilter.tex\n",
        "book.tex\n",
        "CDFsAndSorting.tex\n",
        "Combinatorics.tex\n",
        "DocComparison.tex\n",
        "HashingAndSorting.tex\n",
        "HashingDocComparison.tex\n",
        "\\resizebox{2.25in}{!}{\\input{table.pstex_t}}\n",
        "\n",
        "intro.tex\n",
        "KargerMinCut.tex\n",
        "macros.tex\n",
        "MathPrelim.tex\n",
        "MedianAlg.tex\n",
        "MultipleEventsConditioning.tex\n",
        "\\resizebox{1.5in}{!}{\\input{spicy.pstex_t}}\n",
        "\n",
        "\\resizebox{1.5in}{!}{\\input{indep1.pstex_t}}\n",
        "\n",
        "\\resizebox{1.5in}{!}{\\input{indep2.pstex_t}}\n",
        "\n",
        "\\resizebox{1.5in}{!}{\\input{indep3.pstex_t}}\n",
        "\n",
        "MultipleEventsConditioningandIndependence.tex\n",
        "\\resizebox{1.5in}{!}{\\input{spicy.pstex_t}}\n",
        "\n",
        "\\resizebox{1.5in}{!}{\\input{indep1.pstex_t}}\n",
        "\n",
        "\\resizebox{1.5in}{!}{\\input{indep2.pstex_t}}\n",
        "\n",
        "\\resizebox{1.5in}{!}{\\input{indep3.pstex_t}}\n",
        "\n",
        "MultipleHypothesisTesting.tex\n",
        "ProbabilitySpaces.tex\n",
        "\\resizebox{1.5in}{!}{\\input{1.1.pstex_t}}\n",
        "\n",
        "pseudo_randomness.tex\n",
        "quiz0.tex\n",
        "RandomAlgorithms.tex\n",
        "\\resizebox{2.25in}{!}{\\input{table.pstex_t}}\n",
        "\n",
        "RandomVariablesExpectationVariance.tex\n",
        "\\resizebox{2in}{!}{\\input{var.pstex_t}}\n",
        "\n",
        "RVsExpectation.InfiniteSets.tex\n",
        "SamplingHypothesisTestingCLT.tex\n",
        "StatNCorrelation.tex\n"
       ]
      }
     ],
     "prompt_number": 9
    },
    {
     "cell_type": "code",
     "collapsed": false,
     "input": [
      "!grep -i pstex *.tex"
     ],
     "language": "python",
     "metadata": {},
     "outputs": [
      {
       "output_type": "stream",
       "stream": "stdout",
       "text": [
        "1.tex:%%\\resizebox{1.5in}{!}{\\input{1.1.pstex_t}}\r\n",
        "2.tex:%%\\resizebox{1.5in}{!}{\\input{spicy.pstex_t}}\r\n",
        "2.tex:%%\\resizebox{1.5in}{!}{\\input{indep1.pstex_t}}\r\n",
        "2.tex:%%\\resizebox{1.5in}{!}{\\input{indep2.pstex_t}}\r\n",
        "2.tex:%%\\resizebox{1.5in}{!}{\\input{indep3.pstex_t}}\r\n",
        "2a.tex:%%\\resizebox{1.5in}{!}{\\input{spicy.pstex_t}}\r\n",
        "2a.tex:%%\\resizebox{1.5in}{!}{\\input{indep1.pstex_t}}\r\n",
        "2a.tex:%%\\resizebox{1.5in}{!}{\\input{indep2.pstex_t}}\r\n",
        "2a.tex:%%\\resizebox{1.5in}{!}{\\input{indep3.pstex_t}}\r\n",
        "2b.tex:%%\\resizebox{1.5in}{!}{\\input{indep1.pstex_t}}\r\n",
        "2b.tex:%%\\resizebox{1.5in}{!}{\\input{indep2.pstex_t}}\r\n",
        "2b.tex:%%\\resizebox{1.5in}{!}{\\input{indep3.pstex_t}}\r\n",
        "3a.tex:%%\\resizebox{2in}{!}{\\input{var.pstex_t}}\r\n",
        "3b.tex:%%\\resizebox{2in}{!}{\\input{var.pstex_t}}\r\n",
        "HashingDocComparison.tex:%%\\resizebox{2.25in}{!}{\\input{table.pstex_t}}\r\n",
        "MultipleEventsConditioning.tex:%%\\resizebox{1.5in}{!}{\\input{spicy.pstex_t}}\r\n",
        "MultipleEventsConditioning.tex:%%\\resizebox{1.5in}{!}{\\input{indep1.pstex_t}}\r\n",
        "MultipleEventsConditioning.tex:%%\\resizebox{1.5in}{!}{\\input{indep2.pstex_t}}\r\n",
        "MultipleEventsConditioning.tex:%%\\resizebox{1.5in}{!}{\\input{indep3.pstex_t}}\r\n",
        "MultipleEventsConditioningandIndependence.tex:%%\\resizebox{1.5in}{!}{\\input{spicy.pstex_t}}\r\n",
        "MultipleEventsConditioningandIndependence.tex:%%\\resizebox{1.5in}{!}{\\input{indep1.pstex_t}}\r\n",
        "MultipleEventsConditioningandIndependence.tex:%%\\resizebox{1.5in}{!}{\\input{indep2.pstex_t}}\r\n",
        "MultipleEventsConditioningandIndependence.tex:%%\\resizebox{1.5in}{!}{\\input{indep3.pstex_t}}\r\n",
        "ProbabilitySpaces.tex:%%\\resizebox{1.5in}{!}{\\input{1.1.pstex_t}}\r\n",
        "RandomAlgorithms.tex:%%\\resizebox{2.25in}{!}{\\input{table.pstex_t}}\r\n",
        "RandomVariablesExpectationVariance.tex:%%\\resizebox{2in}{!}{\\input{var.pstex_t}}\r\n"
       ]
      }
     ],
     "prompt_number": 13
    },
    {
     "cell_type": "raw",
     "metadata": {},
     "source": [
      "!mkdir figures"
     ]
    },
    {
     "cell_type": "code",
     "collapsed": false,
     "input": [
      "!mv *.fig figures"
     ],
     "language": "python",
     "metadata": {},
     "outputs": [
      {
       "output_type": "stream",
       "stream": "stdout",
       "text": [
        "usage: mv [-f | -i | -n] [-v] source target\r\n",
        "       mv [-f | -i | -n] [-v] source ... directory\r\n"
       ]
      }
     ],
     "prompt_number": 17
    },
    {
     "cell_type": "code",
     "collapsed": false,
     "input": [
      "!mv *.jpg figures"
     ],
     "language": "python",
     "metadata": {},
     "outputs": [
      {
       "output_type": "stream",
       "stream": "stdout",
       "text": [
        "mv: *.jpg: No such file or directory\r\n"
       ]
      }
     ],
     "prompt_number": 18
    },
    {
     "cell_type": "code",
     "collapsed": false,
     "input": [
      "!ls figures"
     ],
     "language": "python",
     "metadata": {},
     "outputs": [
      {
       "output_type": "stream",
       "stream": "stdout",
       "text": [
        "figures\r\n"
       ]
      }
     ],
     "prompt_number": 19
    },
    {
     "cell_type": "code",
     "collapsed": false,
     "input": [
      "!ls *.fig"
     ],
     "language": "python",
     "metadata": {},
     "outputs": [
      {
       "output_type": "stream",
       "stream": "stdout",
       "text": [
        "\u001b[31m1.1.fig\u001b[m\u001b[m          \u001b[31mcut4.fig\u001b[m\u001b[m         decision3.fig    linear2.fig      \u001b[31mspread1.fig\u001b[m\u001b[m\r\n",
        "\u001b[31mbell.fig\u001b[m\u001b[m         \u001b[31mcut5.fig\u001b[m\u001b[m         \u001b[31me-x.fig\u001b[m\u001b[m          linear3.fig      \u001b[31mspread2.fig\u001b[m\u001b[m\r\n",
        "\u001b[31mbin(100,0.6).fig\u001b[m\u001b[m \u001b[31mcut6.fig\u001b[m\u001b[m         \u001b[31mindep1.fig\u001b[m\u001b[m       linear4.fig      \u001b[31mtable.fig\u001b[m\u001b[m\r\n",
        "\u001b[31mcut1.fig\u001b[m\u001b[m         decision.fig     \u001b[31mindep2.fig\u001b[m\u001b[m       \u001b[31mmincut.fig\u001b[m\u001b[m       \u001b[31mthree-norm.fig\u001b[m\u001b[m\r\n",
        "\u001b[31mcut2.fig\u001b[m\u001b[m         decision1.fig    \u001b[31mindep3.fig\u001b[m\u001b[m       postings.fig     \u001b[31mvar.fig\u001b[m\u001b[m\r\n",
        "\u001b[31mcut3.fig\u001b[m\u001b[m         decision2.fig    linear1.fig      \u001b[31mspicy.fig\u001b[m\u001b[m\r\n"
       ]
      }
     ],
     "prompt_number": 20
    },
    {
     "cell_type": "code",
     "collapsed": false,
     "input": [
      "for name in glob('../CSE103.2013/Reading material/*.pstex*'):\n",
      "    print name,\n",
      "    !cp \"$name\" figs"
     ],
     "language": "python",
     "metadata": {},
     "outputs": [
      {
       "output_type": "stream",
       "stream": "stdout",
       "text": [
        "../CSE103.2013/Reading material/1.1.pstex"
       ]
      },
      {
       "output_type": "stream",
       "stream": "stdout",
       "text": [
        " ../CSE103.2013/Reading material/1.1.pstex_t"
       ]
      },
      {
       "output_type": "stream",
       "stream": "stdout",
       "text": [
        " ../CSE103.2013/Reading material/indep1.pstex"
       ]
      },
      {
       "output_type": "stream",
       "stream": "stdout",
       "text": [
        " ../CSE103.2013/Reading material/indep1.pstex_t"
       ]
      },
      {
       "output_type": "stream",
       "stream": "stdout",
       "text": [
        " ../CSE103.2013/Reading material/indep2.pstex"
       ]
      },
      {
       "output_type": "stream",
       "stream": "stdout",
       "text": [
        " ../CSE103.2013/Reading material/indep2.pstex_t"
       ]
      },
      {
       "output_type": "stream",
       "stream": "stdout",
       "text": [
        " ../CSE103.2013/Reading material/indep3.pstex"
       ]
      },
      {
       "output_type": "stream",
       "stream": "stdout",
       "text": [
        " ../CSE103.2013/Reading material/indep3.pstex_t"
       ]
      },
      {
       "output_type": "stream",
       "stream": "stdout",
       "text": [
        " ../CSE103.2013/Reading material/spicy.pstex"
       ]
      },
      {
       "output_type": "stream",
       "stream": "stdout",
       "text": [
        " ../CSE103.2013/Reading material/spicy.pstex_t"
       ]
      },
      {
       "output_type": "stream",
       "stream": "stdout",
       "text": [
        " ../CSE103.2013/Reading material/table.pstex"
       ]
      },
      {
       "output_type": "stream",
       "stream": "stdout",
       "text": [
        " ../CSE103.2013/Reading material/table.pstex_t"
       ]
      },
      {
       "output_type": "stream",
       "stream": "stdout",
       "text": [
        " ../CSE103.2013/Reading material/var.pstex"
       ]
      },
      {
       "output_type": "stream",
       "stream": "stdout",
       "text": [
        " ../CSE103.2013/Reading material/var.pstex_t"
       ]
      },
      {
       "output_type": "stream",
       "stream": "stdout",
       "text": [
        "\n"
       ]
      }
     ],
     "prompt_number": 42
    },
    {
     "cell_type": "code",
     "collapsed": false,
     "input": [
      "!ls figs"
     ],
     "language": "python",
     "metadata": {},
     "outputs": [
      {
       "output_type": "stream",
       "stream": "stdout",
       "text": [
        "\u001b[31m1.1.fig\u001b[m\u001b[m                     \u001b[31mcut5.eps\u001b[m\u001b[m                    linear2.fig\r\n",
        "\u001b[31m1.1.pstex\u001b[m\u001b[m                   \u001b[31mcut5.fig\u001b[m\u001b[m                    linear3.eps\r\n",
        "\u001b[31m1.1.pstex_t\u001b[m\u001b[m                 \u001b[31mcut6.eps\u001b[m\u001b[m                    linear3.fig\r\n",
        "HashTable.png               \u001b[31mcut6.fig\u001b[m\u001b[m                    linear4.eps\r\n",
        "SortingLowerBound.graffle   decision.eps                linear4.fig\r\n",
        "SortingLowerBound.png       decision.fig                \u001b[31mmincut.eps\u001b[m\u001b[m\r\n",
        "averages10000.jp2           decision1.eps               \u001b[31mmincut.fig\u001b[m\u001b[m\r\n",
        "averages10000.jpg           decision1.fig               mnist.eps\r\n",
        "averages10000.pdf           decision2.eps               postings.eps\r\n",
        "averages10000.png           decision2.fig               postings.fig\r\n",
        "averages1000000.jp2         decision3.eps               postings.png\r\n",
        "averages1000000.jpg         decision3.fig               \u001b[31mspicy.fig\u001b[m\u001b[m\r\n",
        "averages1000000.png         divergingSum.rtf            \u001b[31mspicy.pstex\u001b[m\u001b[m\r\n",
        "\u001b[31mbell.eps\u001b[m\u001b[m                    \u001b[31me-x.fig\u001b[m\u001b[m                     \u001b[31mspicy.pstex_t\u001b[m\u001b[m\r\n",
        "\u001b[31mbell.fig\u001b[m\u001b[m                    \u001b[31mindep1.fig\u001b[m\u001b[m                  \u001b[31mspread1.eps\u001b[m\u001b[m\r\n",
        "\u001b[31mbin(100,0.6).eps\u001b[m\u001b[m            \u001b[31mindep1.pstex\u001b[m\u001b[m                \u001b[31mspread1.fig\u001b[m\u001b[m\r\n",
        "\u001b[31mbin(100,0.6).fig\u001b[m\u001b[m            \u001b[31mindep1.pstex_t\u001b[m\u001b[m              \u001b[31mspread2.eps\u001b[m\u001b[m\r\n",
        "correlationCoefficients.png \u001b[31mindep2.fig\u001b[m\u001b[m                  \u001b[31mspread2.fig\u001b[m\u001b[m\r\n",
        "\u001b[31mcut1.eps\u001b[m\u001b[m                    \u001b[31mindep2.pstex\u001b[m\u001b[m                \u001b[31mtable.fig\u001b[m\u001b[m\r\n",
        "\u001b[31mcut1.fig\u001b[m\u001b[m                    \u001b[31mindep2.pstex_t\u001b[m\u001b[m              \u001b[31mtable.pstex\u001b[m\u001b[m\r\n",
        "\u001b[31mcut2.eps\u001b[m\u001b[m                    \u001b[31mindep3.fig\u001b[m\u001b[m                  \u001b[31mtable.pstex_t\u001b[m\u001b[m\r\n",
        "\u001b[31mcut2.fig\u001b[m\u001b[m                    \u001b[31mindep3.pstex\u001b[m\u001b[m                \u001b[31mthree-norm.eps\u001b[m\u001b[m\r\n",
        "\u001b[31mcut3.eps\u001b[m\u001b[m                    \u001b[31mindep3.pstex_t\u001b[m\u001b[m              \u001b[31mthree-norm.fig\u001b[m\u001b[m\r\n",
        "\u001b[31mcut3.fig\u001b[m\u001b[m                    linear1.eps                 \u001b[31mvar.fig\u001b[m\u001b[m\r\n",
        "\u001b[31mcut4.eps\u001b[m\u001b[m                    linear1.fig                 \u001b[31mvar.pstex\u001b[m\u001b[m\r\n",
        "\u001b[31mcut4.fig\u001b[m\u001b[m                    linear2.eps                 \u001b[31mvar.pstex_t\u001b[m\u001b[m\r\n"
       ]
      }
     ],
     "prompt_number": 43
    },
    {
     "cell_type": "code",
     "collapsed": false,
     "input": [
      "!mv ../CSE103.2013/Read"
     ],
     "language": "python",
     "metadata": {},
     "outputs": [
      {
       "output_type": "stream",
       "stream": "stdout",
       "text": [
        "head: Error reading figs\r\n"
       ]
      }
     ],
     "prompt_number": 35
    },
    {
     "cell_type": "code",
     "collapsed": false,
     "input": [
      "!mv figures/* figs"
     ],
     "language": "python",
     "metadata": {},
     "outputs": [
      {
       "output_type": "stream",
       "stream": "stdout",
       "text": [
        "mv: rename figures/ to figs/figures/: Not a directory\r\n"
       ]
      }
     ],
     "prompt_number": 36
    },
    {
     "cell_type": "code",
     "collapsed": false,
     "input": [
      "!pwd"
     ],
     "language": "python",
     "metadata": {},
     "outputs": [
      {
       "output_type": "stream",
       "stream": "stdout",
       "text": [
        "/Users/yoavfreund/academic.papers/Courses/undergrad statistics/CSE103.2014\r\n"
       ]
      }
     ],
     "prompt_number": 37
    },
    {
     "cell_type": "code",
     "collapsed": false,
     "input": [
      "!ls figures/*"
     ],
     "language": "python",
     "metadata": {},
     "outputs": [
      {
       "output_type": "stream",
       "stream": "stdout",
       "text": [
        "ls: figures/*: Not a directory\r\n"
       ]
      }
     ],
     "prompt_number": 38
    },
    {
     "cell_type": "code",
     "collapsed": false,
     "input": [],
     "language": "python",
     "metadata": {},
     "outputs": []
    }
   ],
   "metadata": {}
  }
 ]
}