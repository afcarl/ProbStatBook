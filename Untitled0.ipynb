{
 "metadata": {
  "name": "",
  "signature": "sha256:e276d915f368533b05978608f0dbd4438b93714293d3c63a818d881439cfec4b"
 },
 "nbformat": 3,
 "nbformat_minor": 0,
 "worksheets": [
  {
   "cells": [
    {
     "cell_type": "code",
     "collapsed": false,
     "input": [
      "!grep pstex *.tex"
     ],
     "language": "python",
     "metadata": {},
     "outputs": [
      {
       "output_type": "stream",
       "stream": "stdout",
       "text": [
        "HashingDocComparison.tex:%%\\resizebox{2.25in}{!}{\\input{table.pstex_t}}\r\n",
        "MultipleEventsConditioning.tex:%%\\resizebox{1.5in}{!}{\\input{spicy.pstex_t}}\r\n",
        "MultipleEventsConditioning.tex:%%\\resizebox{1.5in}{!}{\\input{indep1.pstex_t}}\r\n",
        "MultipleEventsConditioning.tex:%%\\resizebox{1.5in}{!}{\\input{indep2.pstex_t}}\r\n",
        "MultipleEventsConditioning.tex:%%\\resizebox{1.5in}{!}{\\input{indep3.pstex_t}}\r\n",
        "MultipleEventsConditioningandIndependence.tex:%%\\resizebox{1.5in}{!}{\\input{spicy.pstex_t}}\r\n",
        "MultipleEventsConditioningandIndependence.tex:%%\\resizebox{1.5in}{!}{\\input{indep1.pstex_t}}\r\n",
        "MultipleEventsConditioningandIndependence.tex:%%\\resizebox{1.5in}{!}{\\input{indep2.pstex_t}}\r\n",
        "MultipleEventsConditioningandIndependence.tex:%%\\resizebox{1.5in}{!}{\\input{indep3.pstex_t}}\r\n",
        "ProbabilitySpaces.tex:%%\\resizebox{1.5in}{!}{\\input{1.1.pstex_t}}\r\n",
        "RandomAlgorithms.tex:%%\\resizebox{2.25in}{!}{\\input{table.pstex_t}}\r\n",
        "RandomVariablesExpectationVariance.tex:%%\\resizebox{2in}{!}{\\input{var.pstex_t}}\r\n"
       ]
      }
     ],
     "prompt_number": 16
    },
    {
     "cell_type": "code",
     "collapsed": false,
     "input": [
      "!pwd"
     ],
     "language": "python",
     "metadata": {},
     "outputs": [
      {
       "output_type": "stream",
       "stream": "stdout",
       "text": [
        "/Users/yoavfreund/academic.papers/Courses/undergrad statistics/CSE103.2014/ReadingMaterial\r\n"
       ]
      }
     ],
     "prompt_number": 2
    },
    {
     "cell_type": "code",
     "collapsed": false,
     "input": [
      "from glob import glob\n",
      "import re\n",
      "import os\n",
      "from string import strip\n",
      "\n",
      "for name in glob('*.tex'):\n",
      "    print 'file:',name\n",
      "    infile=open(name,'r')\n",
      "    outfile=open(name+\".nops\",\"w\")\n",
      "    for line in infile:\n",
      "        m=re.search('(includegraphics).*\\{([^}]+)\\}',line)\n",
      "        if m:\n",
      "            path=m.group(2)\n",
      "            #print 'found',strip(line),'\\t',path\n",
      "            justname=re.match('([^/]*/)?([^/]*)\\.pdf',path)\n",
      "            if justname:\n",
      "                print line\n",
      "                print 'justname:',justname.groups()\n",
      "                newpathstem='figs/'+justname.group(2)+'.*'\n",
      "                newpath='figs/'+justname.group(2)+'.pdf'\n",
      "                print newpath\n",
      "                line=line.replace(path,newpath)\n",
      "                print line\n",
      "                !ls $newpathstem\n",
      "        outfile.write(line)\n",
      "    infile.close()\n",
      "    outfile.close()\n",
      "    #os.rename(name+'.nops',name)                 "
     ],
     "language": "python",
     "metadata": {},
     "outputs": [
      {
       "output_type": "stream",
       "stream": "stdout",
       "text": [
        "file: BinsAndBalls.tex\n",
        "file: BloomFilter.tex\n",
        "file: book.tex\n",
        "file: CDFsAndSorting.tex\n",
        "file: Combinatorics.tex\n",
        "file: DocComparison.tex\n",
        "file: HashingAndSorting.tex\n",
        "file: HashingDocComparison.tex\n",
        "\\includegraphics[width=5in]{figs/postings.pdf}\n",
        "\n",
        "justname: ('figs/', 'postings')\n",
        "figs/postings.pdf\n",
        "\\includegraphics[width=5in]{figs/postings.pdf}\n",
        "\n",
        "figs/postings.eps figs/postings.fig figs/postings.png\r\n"
       ]
      },
      {
       "output_type": "stream",
       "stream": "stdout",
       "text": [
        "file: intro.tex\n",
        "file: KargerMinCut.tex\n",
        "\\includegraphics[width=1.5in]{figs/mincut.pdf}\n",
        "\n",
        "justname: ('figs/', 'mincut')\n",
        "figs/mincut.pdf\n",
        "\\includegraphics[width=1.5in]{figs/mincut.pdf}\n",
        "\n",
        "\u001b[31mfigs/mincut.eps\u001b[m\u001b[m \u001b[31mfigs/mincut.fig\u001b[m\u001b[m\r\n"
       ]
      },
      {
       "output_type": "stream",
       "stream": "stdout",
       "text": [
        "\\includegraphics[width=1.5in]{figs/mincut.pdf}\n",
        "\n",
        "justname: ('figs/', 'mincut')\n",
        "figs/mincut.pdf\n",
        "\\includegraphics[width=1.5in]{figs/mincut.pdf}\n",
        "\n",
        "\u001b[31mfigs/mincut.eps\u001b[m\u001b[m \u001b[31mfigs/mincut.fig\u001b[m\u001b[m\r\n"
       ]
      },
      {
       "output_type": "stream",
       "stream": "stdout",
       "text": [
        "\\includegraphics[width=1.5in]{figs/cut1.pdf}\n",
        "\n",
        "justname: ('figs/', 'cut1')\n",
        "figs/cut1.pdf\n",
        "\\includegraphics[width=1.5in]{figs/cut1.pdf}\n",
        "\n",
        "\u001b[31mfigs/cut1.eps\u001b[m\u001b[m \u001b[31mfigs/cut1.fig\u001b[m\u001b[m\r\n"
       ]
      },
      {
       "output_type": "stream",
       "stream": "stdout",
       "text": [
        "\\includegraphics[width=1.5in]{figs/cut2.pdf}\n",
        "\n",
        "justname: ('figs/', 'cut2')\n",
        "figs/cut2.pdf\n",
        "\\includegraphics[width=1.5in]{figs/cut2.pdf}\n",
        "\n",
        "\u001b[31mfigs/cut2.eps\u001b[m\u001b[m \u001b[31mfigs/cut2.fig\u001b[m\u001b[m\r\n"
       ]
      },
      {
       "output_type": "stream",
       "stream": "stdout",
       "text": [
        "\\includegraphics[width=1.25in]{figs/cut3.pdf}\n",
        "\n",
        "justname: ('figs/', 'cut3')\n",
        "figs/cut3.pdf\n",
        "\\includegraphics[width=1.25in]{figs/cut3.pdf}\n",
        "\n",
        "\u001b[31mfigs/cut3.eps\u001b[m\u001b[m \u001b[31mfigs/cut3.fig\u001b[m\u001b[m\r\n"
       ]
      },
      {
       "output_type": "stream",
       "stream": "stdout",
       "text": [
        "\\includegraphics[width=1.35in]{figs/cut4.pdf}\n",
        "\n",
        "justname: ('figs/', 'cut4')\n",
        "figs/cut4.pdf\n",
        "\\includegraphics[width=1.35in]{figs/cut4.pdf}\n",
        "\n",
        "\u001b[31mfigs/cut4.eps\u001b[m\u001b[m \u001b[31mfigs/cut4.fig\u001b[m\u001b[m\r\n"
       ]
      },
      {
       "output_type": "stream",
       "stream": "stdout",
       "text": [
        "\\includegraphics[width=1in]{figs/cut5.pdf}\n",
        "\n",
        "justname: ('figs/', 'cut5')\n",
        "figs/cut5.pdf\n",
        "\\includegraphics[width=1in]{figs/cut5.pdf}\n",
        "\n",
        "\u001b[31mfigs/cut5.eps\u001b[m\u001b[m \u001b[31mfigs/cut5.fig\u001b[m\u001b[m\r\n"
       ]
      },
      {
       "output_type": "stream",
       "stream": "stdout",
       "text": [
        "\\includegraphics[width=1.25in]{figs/cut6.pdf}\n",
        "\n",
        "justname: ('figs/', 'cut6')\n",
        "figs/cut6.pdf\n",
        "\\includegraphics[width=1.25in]{figs/cut6.pdf}\n",
        "\n",
        "\u001b[31mfigs/cut6.eps\u001b[m\u001b[m \u001b[31mfigs/cut6.fig\u001b[m\u001b[m\r\n"
       ]
      },
      {
       "output_type": "stream",
       "stream": "stdout",
       "text": [
        "file: macros.tex\n",
        "file: MathPrelim.tex\n",
        "file: MedianAlg.tex\n",
        "file: MultipleEventsConditioning.tex\n",
        "file: MultipleEventsConditioningandIndependence.tex\n",
        "file: MultipleHypothesisTesting.tex\n",
        "file: ProbabilitySpaces.tex\n",
        "file: pseudo_randomness.tex\n",
        "file: quiz0.tex\n",
        "file: RandomAlgorithms.tex\n",
        "\\includegraphics[width=1.5in]{figs/mincut.pdf}\n",
        "\n",
        "justname: ('figs/', 'mincut')\n",
        "figs/mincut.pdf\n",
        "\\includegraphics[width=1.5in]{figs/mincut.pdf}\n",
        "\n",
        "\u001b[31mfigs/mincut.eps\u001b[m\u001b[m \u001b[31mfigs/mincut.fig\u001b[m\u001b[m\r\n"
       ]
      },
      {
       "output_type": "stream",
       "stream": "stdout",
       "text": [
        "\\includegraphics[width=1.5in]{figs/cut1.pdf}\n",
        "\n",
        "justname: ('figs/', 'cut1')\n",
        "figs/cut1.pdf\n",
        "\\includegraphics[width=1.5in]{figs/cut1.pdf}\n",
        "\n",
        "\u001b[31mfigs/cut1.eps\u001b[m\u001b[m \u001b[31mfigs/cut1.fig\u001b[m\u001b[m\r\n"
       ]
      },
      {
       "output_type": "stream",
       "stream": "stdout",
       "text": [
        "\\includegraphics[width=1.5in]{figs/cut2.pdf}\n",
        "\n",
        "justname: ('figs/', 'cut2')\n",
        "figs/cut2.pdf\n",
        "\\includegraphics[width=1.5in]{figs/cut2.pdf}\n",
        "\n",
        "\u001b[31mfigs/cut2.eps\u001b[m\u001b[m \u001b[31mfigs/cut2.fig\u001b[m\u001b[m\r\n"
       ]
      },
      {
       "output_type": "stream",
       "stream": "stdout",
       "text": [
        "\\includegraphics[width=1.25in]{figs/cut3.pdf}\n",
        "\n",
        "justname: ('figs/', 'cut3')\n",
        "figs/cut3.pdf\n",
        "\\includegraphics[width=1.25in]{figs/cut3.pdf}\n",
        "\n",
        "\u001b[31mfigs/cut3.eps\u001b[m\u001b[m \u001b[31mfigs/cut3.fig\u001b[m\u001b[m\r\n"
       ]
      },
      {
       "output_type": "stream",
       "stream": "stdout",
       "text": [
        "\\includegraphics[width=1.35in]{figs/cut4.pdf}\n",
        "\n",
        "justname: ('figs/', 'cut4')\n",
        "figs/cut4.pdf\n",
        "\\includegraphics[width=1.35in]{figs/cut4.pdf}\n",
        "\n",
        "\u001b[31mfigs/cut4.eps\u001b[m\u001b[m \u001b[31mfigs/cut4.fig\u001b[m\u001b[m\r\n"
       ]
      },
      {
       "output_type": "stream",
       "stream": "stdout",
       "text": [
        "\\includegraphics[width=1in]{figs/cut5.pdf}\n",
        "\n",
        "justname: ('figs/', 'cut5')\n",
        "figs/cut5.pdf\n",
        "\\includegraphics[width=1in]{figs/cut5.pdf}\n",
        "\n",
        "\u001b[31mfigs/cut5.eps\u001b[m\u001b[m \u001b[31mfigs/cut5.fig\u001b[m\u001b[m\r\n"
       ]
      },
      {
       "output_type": "stream",
       "stream": "stdout",
       "text": [
        "\\includegraphics[width=1.25in]{figs/cut6.pdf}\n",
        "\n",
        "justname: ('figs/', 'cut6')\n",
        "figs/cut6.pdf\n",
        "\\includegraphics[width=1.25in]{figs/cut6.pdf}\n",
        "\n",
        "\u001b[31mfigs/cut6.eps\u001b[m\u001b[m \u001b[31mfigs/cut6.fig\u001b[m\u001b[m\r\n"
       ]
      },
      {
       "output_type": "stream",
       "stream": "stdout",
       "text": [
        "\\includegraphics[width=5in]{figs/postings.pdf}\n",
        "\n",
        "justname: ('figs/', 'postings')\n",
        "figs/postings.pdf\n",
        "\\includegraphics[width=5in]{figs/postings.pdf}\n",
        "\n",
        "figs/postings.eps figs/postings.fig figs/postings.png\r\n"
       ]
      },
      {
       "output_type": "stream",
       "stream": "stdout",
       "text": [
        "file: RandomVariablesExpectationVariance.tex\n",
        "%\\includegraphics[width=2in]{figs/spread2.pdf}\n",
        "\n",
        "justname: ('figs/', 'spread2')\n",
        "figs/spread2.pdf\n",
        "%\\includegraphics[width=2in]{figs/spread2.pdf}\n",
        "\n",
        "\u001b[31mfigs/spread2.eps\u001b[m\u001b[m \u001b[31mfigs/spread2.fig\u001b[m\u001b[m\r\n"
       ]
      },
      {
       "output_type": "stream",
       "stream": "stdout",
       "text": [
        "%\\includegraphics[width=2in]{figs/spread1.pdf}\n",
        "\n",
        "justname: ('figs/', 'spread1')\n",
        "figs/spread1.pdf\n",
        "%\\includegraphics[width=2in]{figs/spread1.pdf}\n",
        "\n",
        "\u001b[31mfigs/spread1.eps\u001b[m\u001b[m \u001b[31mfigs/spread1.fig\u001b[m\u001b[m\r\n"
       ]
      },
      {
       "output_type": "stream",
       "stream": "stdout",
       "text": [
        "file: RVsExpectation.InfiniteSets.tex\n",
        "file: SamplingHypothesisTestingCLT.tex\n",
        "%\\includegraphics[width=3in]{figs/bin(100,0.6).pdf}\n",
        "\n",
        "justname: ('figs/', 'bin(100,0.6)')\n",
        "figs/bin(100,0.6).pdf\n",
        "%\\includegraphics[width=3in]{figs/bin(100,0.6).pdf}\n",
        "\n",
        "/bin/sh: -c: line 0: syntax error near unexpected token `('\r\n",
        "/bin/sh: -c: line 0: `ls figs/bin(100,0.6).*'\r\n"
       ]
      },
      {
       "output_type": "stream",
       "stream": "stdout",
       "text": [
        "%\\includegraphics[width=3in,height=1.5in]{figs/bell.pdf}\n",
        "\n",
        "justname: ('figs/', 'bell')\n",
        "figs/bell.pdf\n",
        "%\\includegraphics[width=3in,height=1.5in]{figs/bell.pdf}\n",
        "\n",
        "\u001b[31mfigs/bell.eps\u001b[m\u001b[m \u001b[31mfigs/bell.fig\u001b[m\u001b[m figs/bell.pdf\r\n"
       ]
      },
      {
       "output_type": "stream",
       "stream": "stdout",
       "text": [
        "%\\includegraphics[width=4in,height=3in]{figs/three-norm.pdf}\n",
        "\n",
        "justname: ('figs/', 'three-norm')\n",
        "figs/three-norm.pdf\n",
        "%\\includegraphics[width=4in,height=3in]{figs/three-norm.pdf}\n",
        "\n",
        "\u001b[31mfigs/three-norm.eps\u001b[m\u001b[m \u001b[31mfigs/three-norm.fig\u001b[m\u001b[m figs/three-norm.pdf\r\n"
       ]
      },
      {
       "output_type": "stream",
       "stream": "stdout",
       "text": [
        "file: StatNCorrelation.tex\n"
       ]
      }
     ],
     "prompt_number": 50
    },
    {
     "cell_type": "code",
     "collapsed": false,
     "input": [
      "%cd figs\n",
      "for file in glob('*.eps'):\n",
      "    p=file[:-4]+'.*'\n",
      "    print file\n",
      "    !ps2pdf $file\n",
      "    !ls $p"
     ],
     "language": "python",
     "metadata": {},
     "outputs": [
      {
       "output_type": "stream",
       "stream": "stdout",
       "text": [
        "/Users/yoavfreund/academic.papers/Courses/undergrad statistics/CSE103.2014/ReadingMaterial/figs\n",
        "1.1.eps\n"
       ]
      },
      {
       "output_type": "stream",
       "stream": "stdout",
       "text": [
        "1.1.eps     \u001b[31m1.1.fig\u001b[m\u001b[m     1.1.pdf     \u001b[31m1.1.pstex\u001b[m\u001b[m   \u001b[31m1.1.pstex_t\u001b[m\u001b[m\r\n"
       ]
      },
      {
       "output_type": "stream",
       "stream": "stdout",
       "text": [
        "bell.eps\n"
       ]
      },
      {
       "output_type": "stream",
       "stream": "stdout",
       "text": [
        "\u001b[31mbell.eps\u001b[m\u001b[m \u001b[31mbell.fig\u001b[m\u001b[m bell.pdf\r\n"
       ]
      },
      {
       "output_type": "stream",
       "stream": "stdout",
       "text": [
        "bin(100,0.6).eps\n",
        "/bin/sh: -c: line 0: syntax error near unexpected token `('\r\n",
        "/bin/sh: -c: line 0: `ps2pdf bin(100,0.6).eps'\r\n"
       ]
      },
      {
       "output_type": "stream",
       "stream": "stdout",
       "text": [
        "/bin/sh: -c: line 0: syntax error near unexpected token `('\r\n",
        "/bin/sh: -c: line 0: `ls bin(100,0.6).*'\r\n"
       ]
      },
      {
       "output_type": "stream",
       "stream": "stdout",
       "text": [
        "cut1.eps\n"
       ]
      },
      {
       "output_type": "stream",
       "stream": "stdout",
       "text": [
        "\u001b[31mcut1.eps\u001b[m\u001b[m \u001b[31mcut1.fig\u001b[m\u001b[m cut1.pdf\r\n"
       ]
      },
      {
       "output_type": "stream",
       "stream": "stdout",
       "text": [
        "cut2.eps\n"
       ]
      },
      {
       "output_type": "stream",
       "stream": "stdout",
       "text": [
        "\u001b[31mcut2.eps\u001b[m\u001b[m \u001b[31mcut2.fig\u001b[m\u001b[m cut2.pdf\r\n"
       ]
      },
      {
       "output_type": "stream",
       "stream": "stdout",
       "text": [
        "cut3.eps\n"
       ]
      },
      {
       "output_type": "stream",
       "stream": "stdout",
       "text": [
        "\u001b[31mcut3.eps\u001b[m\u001b[m \u001b[31mcut3.fig\u001b[m\u001b[m cut3.pdf\r\n"
       ]
      },
      {
       "output_type": "stream",
       "stream": "stdout",
       "text": [
        "cut4.eps\n"
       ]
      },
      {
       "output_type": "stream",
       "stream": "stdout",
       "text": [
        "\u001b[31mcut4.eps\u001b[m\u001b[m \u001b[31mcut4.fig\u001b[m\u001b[m cut4.pdf\r\n"
       ]
      },
      {
       "output_type": "stream",
       "stream": "stdout",
       "text": [
        "cut5.eps\n"
       ]
      },
      {
       "output_type": "stream",
       "stream": "stdout",
       "text": [
        "\u001b[31mcut5.eps\u001b[m\u001b[m \u001b[31mcut5.fig\u001b[m\u001b[m cut5.pdf\r\n"
       ]
      },
      {
       "output_type": "stream",
       "stream": "stdout",
       "text": [
        "cut6.eps\n"
       ]
      },
      {
       "output_type": "stream",
       "stream": "stdout",
       "text": [
        "\u001b[31mcut6.eps\u001b[m\u001b[m \u001b[31mcut6.fig\u001b[m\u001b[m cut6.pdf\r\n"
       ]
      },
      {
       "output_type": "stream",
       "stream": "stdout",
       "text": [
        "decision.eps\n"
       ]
      },
      {
       "output_type": "stream",
       "stream": "stdout",
       "text": [
        "decision.eps decision.fig decision.pdf\r\n"
       ]
      },
      {
       "output_type": "stream",
       "stream": "stdout",
       "text": [
        "decision1.eps\n"
       ]
      },
      {
       "output_type": "stream",
       "stream": "stdout",
       "text": [
        "decision1.eps decision1.fig decision1.pdf\r\n"
       ]
      },
      {
       "output_type": "stream",
       "stream": "stdout",
       "text": [
        "decision2.eps\n"
       ]
      },
      {
       "output_type": "stream",
       "stream": "stdout",
       "text": [
        "decision2.eps decision2.fig decision2.pdf\r\n"
       ]
      },
      {
       "output_type": "stream",
       "stream": "stdout",
       "text": [
        "decision3.eps\n"
       ]
      },
      {
       "output_type": "stream",
       "stream": "stdout",
       "text": [
        "decision3.eps decision3.fig decision3.pdf\r\n"
       ]
      },
      {
       "output_type": "stream",
       "stream": "stdout",
       "text": [
        "linear1.eps\n"
       ]
      },
      {
       "output_type": "stream",
       "stream": "stdout",
       "text": [
        "linear1.eps linear1.fig linear1.pdf\r\n"
       ]
      },
      {
       "output_type": "stream",
       "stream": "stdout",
       "text": [
        "linear2.eps\n"
       ]
      },
      {
       "output_type": "stream",
       "stream": "stdout",
       "text": [
        "linear2.eps linear2.fig linear2.pdf\r\n"
       ]
      },
      {
       "output_type": "stream",
       "stream": "stdout",
       "text": [
        "linear3.eps\n"
       ]
      },
      {
       "output_type": "stream",
       "stream": "stdout",
       "text": [
        "linear3.eps linear3.fig linear3.pdf\r\n"
       ]
      },
      {
       "output_type": "stream",
       "stream": "stdout",
       "text": [
        "linear4.eps\n"
       ]
      },
      {
       "output_type": "stream",
       "stream": "stdout",
       "text": [
        "linear4.eps linear4.fig linear4.pdf\r\n"
       ]
      },
      {
       "output_type": "stream",
       "stream": "stdout",
       "text": [
        "mincut.eps\n"
       ]
      },
      {
       "output_type": "stream",
       "stream": "stdout",
       "text": [
        "\u001b[31mmincut.eps\u001b[m\u001b[m \u001b[31mmincut.fig\u001b[m\u001b[m mincut.pdf\r\n"
       ]
      },
      {
       "output_type": "stream",
       "stream": "stdout",
       "text": [
        "mnist.eps\n"
       ]
      },
      {
       "output_type": "stream",
       "stream": "stdout",
       "text": [
        "mnist.eps mnist.pdf\r\n"
       ]
      },
      {
       "output_type": "stream",
       "stream": "stdout",
       "text": [
        "postings.eps\n"
       ]
      },
      {
       "output_type": "stream",
       "stream": "stdout",
       "text": [
        "postings.eps postings.fig postings.pdf postings.png\r\n"
       ]
      },
      {
       "output_type": "stream",
       "stream": "stdout",
       "text": [
        "spread1.eps\n"
       ]
      },
      {
       "output_type": "stream",
       "stream": "stdout",
       "text": [
        "\u001b[31mspread1.eps\u001b[m\u001b[m \u001b[31mspread1.fig\u001b[m\u001b[m spread1.pdf\r\n"
       ]
      },
      {
       "output_type": "stream",
       "stream": "stdout",
       "text": [
        "spread2.eps\n"
       ]
      },
      {
       "output_type": "stream",
       "stream": "stdout",
       "text": [
        "\u001b[31mspread2.eps\u001b[m\u001b[m \u001b[31mspread2.fig\u001b[m\u001b[m spread2.pdf\r\n"
       ]
      },
      {
       "output_type": "stream",
       "stream": "stdout",
       "text": [
        "three-norm.eps\n"
       ]
      },
      {
       "output_type": "stream",
       "stream": "stdout",
       "text": [
        "\u001b[31mthree-norm.eps\u001b[m\u001b[m \u001b[31mthree-norm.fig\u001b[m\u001b[m three-norm.pdf\r\n"
       ]
      }
     ],
     "prompt_number": 55
    },
    {
     "cell_type": "code",
     "collapsed": false,
     "input": [],
     "language": "python",
     "metadata": {},
     "outputs": []
    }
   ],
   "metadata": {}
  }
 ]
}