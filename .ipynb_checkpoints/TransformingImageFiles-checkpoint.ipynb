{
 "metadata": {
  "name": "",
  "signature": "sha256:5d3a090c9ae7fd2d9a7696e401690b941d194b2286776b17ff9438cc2b2da007"
 },
 "nbformat": 3,
 "nbformat_minor": 0,
 "worksheets": [
  {
   "cells": [
    {
     "cell_type": "code",
     "collapsed": false,
     "input": [
      "!grep pstex *.tex"
     ],
     "language": "python",
     "metadata": {},
     "outputs": [
      {
       "output_type": "stream",
       "stream": "stdout",
       "text": [
        "HashingDocComparison.tex:%%\\resizebox{2.25in}{!}{\\input{table.pstex_t}}\r\n",
        "MultipleEventsConditioning.tex:%%\\resizebox{1.5in}{!}{\\input{spicy.pstex_t}}\r\n",
        "MultipleEventsConditioning.tex:%%\\resizebox{1.5in}{!}{\\input{indep1.pstex_t}}\r\n",
        "MultipleEventsConditioning.tex:%%\\resizebox{1.5in}{!}{\\input{indep2.pstex_t}}\r\n",
        "MultipleEventsConditioning.tex:%%\\resizebox{1.5in}{!}{\\input{indep3.pstex_t}}\r\n",
        "MultipleEventsConditioningandIndependence.tex:%%\\resizebox{1.5in}{!}{\\input{spicy.pstex_t}}\r\n",
        "MultipleEventsConditioningandIndependence.tex:%%\\resizebox{1.5in}{!}{\\input{indep1.pstex_t}}\r\n",
        "MultipleEventsConditioningandIndependence.tex:%%\\resizebox{1.5in}{!}{\\input{indep2.pstex_t}}\r\n",
        "MultipleEventsConditioningandIndependence.tex:%%\\resizebox{1.5in}{!}{\\input{indep3.pstex_t}}\r\n",
        "ProbabilitySpaces.tex:%%\\resizebox{1.5in}{!}{\\input{1.1.pstex_t}}\r\n",
        "RandomAlgorithms.tex:%%\\resizebox{2.25in}{!}{\\input{table.pstex_t}}\r\n",
        "RandomVariablesExpectationVariance.tex:%%\\resizebox{2in}{!}{\\input{var.pstex_t}}\r\n"
       ]
      }
     ],
     "prompt_number": 16
    },
    {
     "cell_type": "code",
     "collapsed": false,
     "input": [
      "%cd .."
     ],
     "language": "python",
     "metadata": {},
     "outputs": [
      {
       "output_type": "stream",
       "stream": "stdout",
       "text": [
        "/Users/yoavfreund/academic.papers/Courses/undergrad statistics/CSE103.2014/ProbStatBook\n"
       ]
      }
     ],
     "prompt_number": 8
    },
    {
     "cell_type": "code",
     "collapsed": false,
     "input": [
      "from glob import glob\n",
      "import re\n",
      "import os\n",
      "from string import strip\n",
      "\n",
      "for name in glob('*.tex'):\n",
      "    print 'file:',name\n",
      "    infile=open(name,'r')\n",
      "    outfile=open(name+\".nops\",\"w\")\n",
      "    for line in infile:\n",
      "        m=re.search('(includegraphics).*\\{([^}]+)\\}',line)\n",
      "        if m:\n",
      "            path=m.group(2)\n",
      "            #print 'found',strip(line),'\\t',path\n",
      "            justname=re.match('([^/]*/)?([^/]*)\\.eps',path)\n",
      "            if justname:\n",
      "                print line\n",
      "                print 'justname:',justname.groups()\n",
      "                newpathstem='figs/'+justname.group(2)+'.*'\n",
      "                newpath='figs/'+justname.group(2)+'.pdf'\n",
      "                print newpath\n",
      "                line=line.replace(path,newpath)\n",
      "                print line\n",
      "                !ls $newpathstem\n",
      "        outfile.write(line)\n",
      "    infile.close()\n",
      "    outfile.close()\n",
      "    os.rename(name+'.nops',name)                 "
     ],
     "language": "python",
     "metadata": {},
     "outputs": [
      {
       "output_type": "stream",
       "stream": "stdout",
       "text": [
        "file: BinsAndBalls.tex\n",
        "file: CDFsAndSorting.tex\n",
        "file: Combinatorics.tex\n",
        "file: DocComparison.tex\n",
        "file: HashingAndSorting.tex\n",
        "file: intro.tex\n",
        "file: MachineLearning.tex\n",
        "\\includegraphics[width=6in]{mnist.eps}\n",
        "\n",
        "justname: (None, 'mnist')\n",
        "figs/mnist.pdf\n",
        "\\includegraphics[width=6in]{figs/mnist.pdf}\n",
        "\n",
        "figs/mnist.eps figs/mnist.pdf\r\n"
       ]
      },
      {
       "output_type": "stream",
       "stream": "stdout",
       "text": [
        "\\includegraphics[width=3.5in]{decision.eps}\n",
        "\n",
        "justname: (None, 'decision')\n",
        "figs/decision.pdf\n",
        "\\includegraphics[width=3.5in]{figs/decision.pdf}\n",
        "\n",
        "figs/decision.eps figs/decision.fig figs/decision.pdf\r\n"
       ]
      },
      {
       "output_type": "stream",
       "stream": "stdout",
       "text": [
        "\\includegraphics[width=0.3in]{decision1.eps}\n",
        "\n",
        "justname: (None, 'decision1')\n",
        "figs/decision1.pdf\n",
        "\\includegraphics[width=0.3in]{figs/decision1.pdf}\n",
        "\n",
        "figs/decision1.eps figs/decision1.fig figs/decision1.pdf\r\n"
       ]
      },
      {
       "output_type": "stream",
       "stream": "stdout",
       "text": [
        "\\includegraphics[width=2.5in]{decision2.eps}\n",
        "\n",
        "justname: (None, 'decision2')\n",
        "figs/decision2.pdf\n",
        "\\includegraphics[width=2.5in]{figs/decision2.pdf}\n",
        "\n",
        "figs/decision2.eps figs/decision2.fig figs/decision2.pdf\r\n"
       ]
      },
      {
       "output_type": "stream",
       "stream": "stdout",
       "text": [
        "\\includegraphics[width=2.25in]{decision3.eps}\n",
        "\n",
        "justname: (None, 'decision3')\n",
        "figs/decision3.pdf\n",
        "\\includegraphics[width=2.25in]{figs/decision3.pdf}\n",
        "\n",
        "figs/decision3.eps figs/decision3.fig figs/decision3.pdf\r\n"
       ]
      },
      {
       "output_type": "stream",
       "stream": "stdout",
       "text": [
        "\\includegraphics[width=2in]{linear1.eps}\n",
        "\n",
        "justname: (None, 'linear1')\n",
        "figs/linear1.pdf\n",
        "\\includegraphics[width=2in]{figs/linear1.pdf}\n",
        "\n",
        "figs/linear1.eps figs/linear1.fig figs/linear1.pdf\r\n"
       ]
      },
      {
       "output_type": "stream",
       "stream": "stdout",
       "text": [
        "\\includegraphics[width=2in]{linear2.eps}\n",
        "\n",
        "justname: (None, 'linear2')\n",
        "figs/linear2.pdf\n",
        "\\includegraphics[width=2in]{figs/linear2.pdf}\n",
        "\n",
        "figs/linear2.eps figs/linear2.fig figs/linear2.pdf\r\n"
       ]
      },
      {
       "output_type": "stream",
       "stream": "stdout",
       "text": [
        "\\includegraphics[width=2in]{linear3.eps}\n",
        "\n",
        "justname: (None, 'linear3')\n",
        "figs/linear3.pdf\n",
        "\\includegraphics[width=2in]{figs/linear3.pdf}\n",
        "\n",
        "figs/linear3.eps figs/linear3.fig figs/linear3.pdf\r\n"
       ]
      },
      {
       "output_type": "stream",
       "stream": "stdout",
       "text": [
        "\\includegraphics[width=2in]{linear4.eps}\n",
        "\n",
        "justname: (None, 'linear4')\n",
        "figs/linear4.pdf\n",
        "\\includegraphics[width=2in]{figs/linear4.pdf}\n",
        "\n",
        "figs/linear4.eps figs/linear4.fig figs/linear4.pdf\r\n"
       ]
      },
      {
       "output_type": "stream",
       "stream": "stdout",
       "text": [
        "file: macros.tex\n",
        "file: MathPrelim.tex\n",
        "file: MedianAlg.tex\n",
        "file: MultipleEventsConditioning.tex\n",
        "file: MultipleEventsConditioningandIndependence.tex\n",
        "file: MultipleHypothesisTesting.tex\n",
        "file: ProbabilitySpaces.tex\n",
        "file: ProbabilityStatistics.tex\n",
        "file: pseudo_randomness.tex\n",
        "file: quiz0.tex\n",
        "file: RandomAlgorithms.tex\n",
        "file: RandomGeneration.tex\n",
        "file: RandomVariablesExpectationVariance.tex\n",
        "file: RVsExpectation.InfiniteSets.tex\n",
        "file: SamplingHypothesisTestingCLT.tex\n",
        "file: SimpleEvents.tex\n",
        "file: StatNCorrelation.tex\n"
       ]
      }
     ],
     "prompt_number": 10
    },
    {
     "cell_type": "code",
     "collapsed": false,
     "input": [
      "%cd figs\n",
      "for file in glob('*.eps'):\n",
      "    p=file[:-4]+'.*'\n",
      "    print file\n",
      "    !ps2pdf -dEPSCrop $file\n",
      "    !ls $p"
     ],
     "language": "python",
     "metadata": {},
     "outputs": [
      {
       "output_type": "stream",
       "stream": "stdout",
       "text": [
        "/Users/yoavfreund/academic.papers/Courses/undergrad statistics/CSE103.2014/ProbStatBook/figs\n",
        "1.1.eps\n"
       ]
      },
      {
       "output_type": "stream",
       "stream": "stdout",
       "text": [
        "1.1.eps     \u001b[31m1.1.fig\u001b[m\u001b[m     1.1.pdf     \u001b[31m1.1.pstex\u001b[m\u001b[m   \u001b[31m1.1.pstex_t\u001b[m\u001b[m\r\n"
       ]
      },
      {
       "output_type": "stream",
       "stream": "stdout",
       "text": [
        "bell.eps\n"
       ]
      },
      {
       "output_type": "stream",
       "stream": "stdout",
       "text": [
        "\u001b[31mbell.eps\u001b[m\u001b[m \u001b[31mbell.fig\u001b[m\u001b[m bell.pdf\r\n"
       ]
      },
      {
       "output_type": "stream",
       "stream": "stdout",
       "text": [
        "bin(100,06).eps\n",
        "/bin/sh: -c: line 0: syntax error near unexpected token `('\r\n",
        "/bin/sh: -c: line 0: `ps2pdf -dEPSCrop bin(100,06).eps'\r\n"
       ]
      },
      {
       "output_type": "stream",
       "stream": "stdout",
       "text": [
        "/bin/sh: -c: line 0: syntax error near unexpected token `('\r\n",
        "/bin/sh: -c: line 0: `ls bin(100,06).*'\r\n"
       ]
      },
      {
       "output_type": "stream",
       "stream": "stdout",
       "text": [
        "cut1.eps\n"
       ]
      },
      {
       "output_type": "stream",
       "stream": "stdout",
       "text": [
        "\u001b[31mcut1.eps\u001b[m\u001b[m \u001b[31mcut1.fig\u001b[m\u001b[m cut1.pdf\r\n"
       ]
      },
      {
       "output_type": "stream",
       "stream": "stdout",
       "text": [
        "cut2.eps\n"
       ]
      },
      {
       "output_type": "stream",
       "stream": "stdout",
       "text": [
        "\u001b[31mcut2.eps\u001b[m\u001b[m \u001b[31mcut2.fig\u001b[m\u001b[m cut2.pdf\r\n"
       ]
      },
      {
       "output_type": "stream",
       "stream": "stdout",
       "text": [
        "cut3.eps\n"
       ]
      },
      {
       "output_type": "stream",
       "stream": "stdout",
       "text": [
        "\u001b[31mcut3.eps\u001b[m\u001b[m \u001b[31mcut3.fig\u001b[m\u001b[m cut3.pdf\r\n"
       ]
      },
      {
       "output_type": "stream",
       "stream": "stdout",
       "text": [
        "cut4.eps\n"
       ]
      },
      {
       "output_type": "stream",
       "stream": "stdout",
       "text": [
        "\u001b[31mcut4.eps\u001b[m\u001b[m \u001b[31mcut4.fig\u001b[m\u001b[m cut4.pdf\r\n"
       ]
      },
      {
       "output_type": "stream",
       "stream": "stdout",
       "text": [
        "cut5.eps\n"
       ]
      },
      {
       "output_type": "stream",
       "stream": "stdout",
       "text": [
        "\u001b[31mcut5.eps\u001b[m\u001b[m \u001b[31mcut5.fig\u001b[m\u001b[m cut5.pdf\r\n"
       ]
      },
      {
       "output_type": "stream",
       "stream": "stdout",
       "text": [
        "cut6.eps\n"
       ]
      },
      {
       "output_type": "stream",
       "stream": "stdout",
       "text": [
        "\u001b[31mcut6.eps\u001b[m\u001b[m \u001b[31mcut6.fig\u001b[m\u001b[m cut6.pdf\r\n"
       ]
      },
      {
       "output_type": "stream",
       "stream": "stdout",
       "text": [
        "decision.eps\n"
       ]
      },
      {
       "output_type": "stream",
       "stream": "stdout",
       "text": [
        "decision.eps decision.fig decision.pdf\r\n"
       ]
      },
      {
       "output_type": "stream",
       "stream": "stdout",
       "text": [
        "decision1.eps\n"
       ]
      },
      {
       "output_type": "stream",
       "stream": "stdout",
       "text": [
        "decision1.eps decision1.fig decision1.pdf\r\n"
       ]
      },
      {
       "output_type": "stream",
       "stream": "stdout",
       "text": [
        "decision2.eps\n"
       ]
      },
      {
       "output_type": "stream",
       "stream": "stdout",
       "text": [
        "decision2.eps decision2.fig decision2.pdf\r\n"
       ]
      },
      {
       "output_type": "stream",
       "stream": "stdout",
       "text": [
        "decision3.eps\n"
       ]
      },
      {
       "output_type": "stream",
       "stream": "stdout",
       "text": [
        "decision3.eps decision3.fig decision3.pdf\r\n"
       ]
      },
      {
       "output_type": "stream",
       "stream": "stdout",
       "text": [
        "linear1.eps\n"
       ]
      },
      {
       "output_type": "stream",
       "stream": "stdout",
       "text": [
        "linear1.eps linear1.fig linear1.pdf\r\n"
       ]
      },
      {
       "output_type": "stream",
       "stream": "stdout",
       "text": [
        "linear2.eps\n"
       ]
      },
      {
       "output_type": "stream",
       "stream": "stdout",
       "text": [
        "linear2.eps linear2.fig linear2.pdf\r\n"
       ]
      },
      {
       "output_type": "stream",
       "stream": "stdout",
       "text": [
        "linear3.eps\n"
       ]
      },
      {
       "output_type": "stream",
       "stream": "stdout",
       "text": [
        "linear3.eps linear3.fig linear3.pdf\r\n"
       ]
      },
      {
       "output_type": "stream",
       "stream": "stdout",
       "text": [
        "linear4.eps\n"
       ]
      },
      {
       "output_type": "stream",
       "stream": "stdout",
       "text": [
        "linear4.eps linear4.fig linear4.pdf\r\n"
       ]
      },
      {
       "output_type": "stream",
       "stream": "stdout",
       "text": [
        "mincut.eps\n"
       ]
      },
      {
       "output_type": "stream",
       "stream": "stdout",
       "text": [
        "\u001b[31mmincut.eps\u001b[m\u001b[m \u001b[31mmincut.fig\u001b[m\u001b[m mincut.pdf\r\n"
       ]
      },
      {
       "output_type": "stream",
       "stream": "stdout",
       "text": [
        "mnist.eps\n"
       ]
      },
      {
       "output_type": "stream",
       "stream": "stdout",
       "text": [
        "mnist.eps mnist.pdf\r\n"
       ]
      },
      {
       "output_type": "stream",
       "stream": "stdout",
       "text": [
        "postings.eps\n"
       ]
      },
      {
       "output_type": "stream",
       "stream": "stdout",
       "text": [
        "postings.eps postings.fig postings.pdf postings.png\r\n"
       ]
      },
      {
       "output_type": "stream",
       "stream": "stdout",
       "text": [
        "spicy.eps\n"
       ]
      },
      {
       "output_type": "stream",
       "stream": "stdout",
       "text": [
        "spicy.eps     \u001b[31mspicy.fig\u001b[m\u001b[m     spicy.pdf     \u001b[31mspicy.pstex\u001b[m\u001b[m   \u001b[31mspicy.pstex_t\u001b[m\u001b[m\r\n"
       ]
      },
      {
       "output_type": "stream",
       "stream": "stdout",
       "text": [
        "spread1.eps\n"
       ]
      },
      {
       "output_type": "stream",
       "stream": "stdout",
       "text": [
        "\u001b[31mspread1.eps\u001b[m\u001b[m \u001b[31mspread1.fig\u001b[m\u001b[m spread1.pdf\r\n"
       ]
      },
      {
       "output_type": "stream",
       "stream": "stdout",
       "text": [
        "spread2.eps\n"
       ]
      },
      {
       "output_type": "stream",
       "stream": "stdout",
       "text": [
        "\u001b[31mspread2.eps\u001b[m\u001b[m \u001b[31mspread2.fig\u001b[m\u001b[m spread2.pdf\r\n"
       ]
      },
      {
       "output_type": "stream",
       "stream": "stdout",
       "text": [
        "three-norm.eps\n"
       ]
      },
      {
       "output_type": "stream",
       "stream": "stdout",
       "text": [
        "\u001b[31mthree-norm.eps\u001b[m\u001b[m \u001b[31mthree-norm.fig\u001b[m\u001b[m three-norm.pdf\r\n"
       ]
      }
     ],
     "prompt_number": 4
    },
    {
     "cell_type": "code",
     "collapsed": false,
     "input": [],
     "language": "python",
     "metadata": {},
     "outputs": []
    }
   ],
   "metadata": {}
  }
 ]
}